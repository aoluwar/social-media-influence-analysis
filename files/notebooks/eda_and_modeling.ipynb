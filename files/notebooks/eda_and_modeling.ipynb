{
 "cells": [
  {
   "cell_type": "markdown",
   "metadata": {},
   "source": [
    "# Social Media Influence Analysis\n",
    "Exploratory Data Analysis (EDA) and Model Training"
   ]
  },
  {
   "cell_type": "code",
   "metadata": {},
   "source": [
    "# Example: load data\n",
    "from src.data_loader import load_data\n",
    "df = load_data('../data/social_media_sample.csv')\n",
    "df.head()"
   ]
  }
 ],
 "metadata": {
  "kernelspec": {
   "display_name": "Python 3",
   "language": "python",
   "name": "python3"
  },
  "language_info": {
   "name": "python",
   "version": "3.9"
  }
 },
 "nbformat": 4,
 "nbformat_minor": 5
}